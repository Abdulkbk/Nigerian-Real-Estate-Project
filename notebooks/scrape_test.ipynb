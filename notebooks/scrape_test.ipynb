{
 "cells": [
  {
   "cell_type": "code",
   "execution_count": 1,
   "metadata": {},
   "outputs": [],
   "source": [
    "import requests\n",
    "from lxml import html\n",
    "from csv import writer"
   ]
  },
  {
   "cell_type": "code",
   "execution_count": 2,
   "metadata": {},
   "outputs": [],
   "source": [
    "url = \"https://nigeriapropertycentre.com/for-sale/houses/kaduna/showtype\"\n",
    "\n",
    "response = requests.get(url)"
   ]
  },
  {
   "cell_type": "code",
   "execution_count": 3,
   "metadata": {},
   "outputs": [],
   "source": [
    "contents = html.fromstring(response.content)"
   ]
  },
  {
   "cell_type": "code",
   "execution_count": 4,
   "metadata": {},
   "outputs": [],
   "source": [
    "listings = contents.xpath(\"//div[@itemprop='itemListElement']\")"
   ]
  },
  {
   "cell_type": "code",
   "execution_count": 5,
   "metadata": {},
   "outputs": [
    {
     "data": {
      "text/plain": [
       "[<Element div at 0x203ce13c400>,\n",
       " <Element div at 0x203ce13c450>,\n",
       " <Element div at 0x203ce13c4a0>,\n",
       " <Element div at 0x203ce13c4f0>,\n",
       " <Element div at 0x203ce13c540>,\n",
       " <Element div at 0x203ce13c590>,\n",
       " <Element div at 0x203ce13c5e0>,\n",
       " <Element div at 0x203ce13c630>,\n",
       " <Element div at 0x203ce13c680>,\n",
       " <Element div at 0x203ce13c6d0>,\n",
       " <Element div at 0x203ce13c720>,\n",
       " <Element div at 0x203ce13c770>,\n",
       " <Element div at 0x203ce13c7c0>,\n",
       " <Element div at 0x203ce13c810>,\n",
       " <Element div at 0x203ce13c860>,\n",
       " <Element div at 0x203ce13c8b0>,\n",
       " <Element div at 0x203ce13c900>,\n",
       " <Element div at 0x203ce13c950>,\n",
       " <Element div at 0x203ce13c9a0>,\n",
       " <Element div at 0x203ce13c9f0>]"
      ]
     },
     "execution_count": 5,
     "metadata": {},
     "output_type": "execute_result"
    }
   ],
   "source": [
    "listings"
   ]
  },
  {
   "cell_type": "code",
   "execution_count": null,
   "metadata": {},
   "outputs": [],
   "source": []
  },
  {
   "cell_type": "code",
   "execution_count": 6,
   "metadata": {},
   "outputs": [],
   "source": [
    "# town = listings[i].xpath(\".//address/strong/text()\")[0].split(\",\")[-2].strip()\n",
    "# title = title\n",
    "\n",
    "# for i in range(len(listings)):\n",
    "#     print(listings)\n",
    "# if \"Toilets\" in listings[0].xpath(\".//li\")[2].text_content():\n",
    "#     print(listings[0].xpath(\".//li\")[2].text_content())"
   ]
  },
  {
   "cell_type": "code",
   "execution_count": 7,
   "metadata": {},
   "outputs": [
    {
     "data": {
      "text/plain": [
       "5000000"
      ]
     },
     "execution_count": 7,
     "metadata": {},
     "output_type": "execute_result"
    }
   ],
   "source": [
    "price = listings[0].xpath(\".//span[@class='price']/text()\")\n",
    "\n",
    "int(price[1].replace(\",\",\"\"))"
   ]
  },
  {
   "cell_type": "code",
   "execution_count": 8,
   "metadata": {},
   "outputs": [
    {
     "name": "stdout",
     "output_type": "stream",
     "text": [
      "[2, 'None', 'None', 'None', 'Detached Duplex', 'Kaduna North', 'Kaduna', 5000000.0]\n",
      "[3, 4, 4, 3, 'Detached Duplex', 'Kaduna North', 'Kaduna', 30000000.0]\n",
      "[3, 3, 4, 5, 'Detached Duplex', 'Kaduna North', 'Kaduna', 25000000.0]\n",
      "[3, 3, 3, 6, 'Detached Duplex', 'Kaduna North', 'Kaduna', 23000000.0]\n",
      "[3, 3, 3, 6, 'Detached Duplex', 'Kaduna North', 'Kaduna', 12000000.0]\n",
      "[3, 3, 3, 8, 'Detached Duplex', 'Kaduna North', 'Kaduna', 38000000.0]\n",
      "[5, 5, 5, 'None', 'Detached Duplex', 'Kaduna South', 'Kaduna', 22950000.0]\n",
      "[1, 'None', 'None', 'None', 'Detached Duplex', 'Kaduna South', 'Kaduna', 18000000.0]\n",
      "[4, 'None', 5, 'None', 'Detached Duplex', 'Kaduna North', 'Kaduna', 15000000.0]\n",
      "[5, 5, 5, 1, 'Detached Duplex', 'Chikun', 'Kaduna', 60000000.0]\n",
      "[4, 4, 4, 4, 'Detached Duplex', 'Chikun', 'Kaduna', 13000000.0]\n",
      "[2, 2, 2, 1, 'Detached Duplex', 'Kaduna South', 'Kaduna', 50000000.0]\n",
      "[5, 5, 5, 6, 'Detached Duplex', 'Chikun', 'Kaduna', 42000000.0]\n",
      "[3, 3, 3, 2, 'Detached Duplex', 'Kaduna North', 'Kaduna', 12000000.0]\n",
      "[3, 3, 3, 6, 'Detached Duplex', 'Kaduna North', 'Kaduna', 21000000.0]\n",
      "[7, 5, 4, 3, 'Detached Duplex', 'Kaduna South', 'Kaduna', 35000000.0]\n",
      "[8, 4, 4, 5, 'Detached Duplex', 'Kaduna South', 'Kaduna', 23000000.0]\n",
      "[5, 'None', 'None', 'None', 'Detached Duplex', 'Kaduna South', 'Kaduna', 10000000.0]\n",
      "[4, 4, 5, 'None', 'Detached Duplex', 'Kaduna North', 'Kaduna', 23000000.0]\n",
      "[3, 3, 3, 6, 'Detached Duplex', 'Chikun', 'Kaduna', 15000000.0]\n"
     ]
    }
   ],
   "source": [
    "with open(\"test.csv\", \"w\", encoding='UTF8', newline=\"\") as csv_file:\n",
    "    csv_writer = writer(csv_file)\n",
    "    headers = ['bedrooms', 'bathrooms', 'toilets', 'parking_space', 'title', 'town', 'state', 'price']\n",
    "    csv_writer.writerow(headers)\n",
    "    \n",
    "    for i in range(len(listings)):\n",
    "        bedrooms = \"None\"\n",
    "        bathrooms = \"None\"\n",
    "        toilets = \"None\"\n",
    "        parking_space = \"None\"\n",
    "        title = \"Detached Duplex\"\n",
    "        town = listings[i].xpath(\".//address/strong/text()\")[0].split(\",\")[-2].strip()\n",
    "        state = \"Kaduna\"\n",
    "        infos = listings[i].xpath(\".//li\")\n",
    "        price = float(listings[i].xpath(\".//span[@class='price']/text()\")[1].replace(\",\",\"\"))\n",
    "        for j in range(len(infos)):\n",
    "            if \"Bedroom\" in infos[j].text_content():\n",
    "                bedrooms = int(infos[j].text_content()[0])\n",
    "            if \"Bathrooms\" in infos[j].text_content():\n",
    "                bathrooms = int(infos[j].text_content()[0])\n",
    "            if \"Toilets\" in infos[j].text_content():\n",
    "                toilets = int(infos[j].text_content()[0])\n",
    "            if \"Parking\" in infos[j].text_content():\n",
    "                parking_space = int(infos[j].text_content()[0])\n",
    "\n",
    "        print([bedrooms, bathrooms, toilets, parking_space, title, town, state, price])\n",
    "        csv_writer.writerow([bedrooms, bathrooms, toilets, parking_space, title, town, state, price])"
   ]
  },
  {
   "cell_type": "code",
   "execution_count": 11,
   "metadata": {},
   "outputs": [],
   "source": [
    "def scrape(url, filename, opentype, title, state):\n",
    "    \n",
    "    response = requests.get(url)\n",
    "    contents = html.fromstring(response.content)\n",
    "    listings = contents.xpath(\"//div[@itemprop='itemListElement']\")\n",
    "    \n",
    "    with open(filename, opentype, encoding='UTF8', newline=\"\") as csv_file:\n",
    "        csv_writer = writer(csv_file)\n",
    "        headers = ['bedrooms', 'bathrooms', 'toilets', 'parking_space', 'title', 'town', 'state', 'price']\n",
    "        csv_writer.writerow(headers)\n",
    "\n",
    "        for i in range(len(listings)):\n",
    "            bedrooms = \"None\"\n",
    "            bathrooms = \"None\"\n",
    "            toilets = \"None\"\n",
    "            parking_space = \"None\"\n",
    "            title = \"Detached Duplex\"\n",
    "            town = listings[i].xpath(\".//address/strong/text()\")[0].split(\",\")[-2].strip()\n",
    "            state = \"Kaduna\"\n",
    "            infos = listings[i].xpath(\".//li\")\n",
    "            price = float(listings[i].xpath(\".//span[@class='price']/text()\")[1].replace(\",\",\"\"))\n",
    "            for j in range(len(infos)):\n",
    "                if \"Bedroom\" in infos[j].text_content():\n",
    "                    bedrooms = int(infos[j].text_content()[0])\n",
    "                if \"Bathrooms\" in infos[j].text_content():\n",
    "                    bathrooms = int(infos[j].text_content()[0])\n",
    "                if \"Toilets\" in infos[j].text_content():\n",
    "                    toilets = int(infos[j].text_content()[0])\n",
    "                if \"Parking\" in infos[j].text_content():\n",
    "                    parking_space = int(infos[j].text_content()[0])\n",
    "\n",
    "            print([bedrooms, bathrooms, toilets, parking_space, title, town, state, price])\n",
    "            csv_writer.writerow([bedrooms, bathrooms, toilets, parking_space, title, town, state, price])"
   ]
  },
  {
   "cell_type": "code",
   "execution_count": 12,
   "metadata": {},
   "outputs": [],
   "source": [
    "link = \"https://nigeriapropertycentre.com/for-sale/houses/detached-duplexes/lagos/showtype\"\n",
    "filename = \"test_1.csv\"\n",
    "opentype = \"w\"\n",
    "title = \"Detached Duplex\"\n",
    "state = \"Kaduna\""
   ]
  },
  {
   "cell_type": "code",
   "execution_count": 13,
   "metadata": {},
   "outputs": [
    {
     "name": "stdout",
     "output_type": "stream",
     "text": [
      "[6, 6, 7, 4, 'Detached Duplex', 'Victoria Island (VI)', 'Kaduna', 450000000.0]\n",
      "[4, 4, 5, 'None', 'Detached Duplex', 'Lekki', 'Kaduna', 105000000.0]\n",
      "[4, 4, 5, 'None', 'Detached Duplex', 'Lekki', 'Kaduna', 65000000.0]\n",
      "[5, 6, 6, 5, 'Detached Duplex', 'Ikoyi', 'Kaduna', 399000000.0]\n",
      "[5, 5, 6, 'None', 'Detached Duplex', 'Ajah', 'Kaduna', 80000000.0]\n",
      "[4, 5, 5, 'None', 'Detached Duplex', 'Ikoyi', 'Kaduna', 350000000.0]\n",
      "[6, 7, 7, 'None', 'Detached Duplex', 'Lekki', 'Kaduna', 300000000.0]\n",
      "[5, 5, 6, 3, 'Detached Duplex', 'Ikoyi', 'Kaduna', 500000000.0]\n",
      "[5, 5, 5, 'None', 'Detached Duplex', 'Lekki', 'Kaduna', 150000000.0]\n",
      "[5, 5, 6, 4, 'Detached Duplex', 'Lekki', 'Kaduna', 58000000.0]\n",
      "[5, 5, 6, 5, 'Detached Duplex', 'Lekki', 'Kaduna', 265000000.0]\n",
      "[4, 4, 5, 4, 'Detached Duplex', 'Lekki', 'Kaduna', 280000000.0]\n",
      "[4, 4, 5, 3, 'Detached Duplex', 'Lekki', 'Kaduna', 125000000.0]\n",
      "[5, 5, 6, 6, 'Detached Duplex', 'Ikeja', 'Kaduna', 140000000.0]\n",
      "[4, 4, 5, 5, 'Detached Duplex', 'Lekki', 'Kaduna', 170000000.0]\n",
      "[4, 4, 5, 5, 'Detached Duplex', 'Lekki', 'Kaduna', 90000000.0]\n",
      "[4, 4, 5, 4, 'Detached Duplex', 'Ajah', 'Kaduna', 70000000.0]\n",
      "[5, 5, 5, 'None', 'Detached Duplex', 'Lekki', 'Kaduna', 140000000.0]\n",
      "[4, 5, 6, 'None', 'Detached Duplex', 'Ojodu', 'Kaduna', 65000000.0]\n",
      "[4, 4, 5, 2, 'Detached Duplex', 'Lekki', 'Kaduna', 65000000.0]\n",
      "[5, 5, 6, 4, 'Detached Duplex', 'Lekki', 'Kaduna', 120000000.0]\n"
     ]
    }
   ],
   "source": [
    "scrape(link, filename, opentype, title, state)"
   ]
  },
  {
   "cell_type": "code",
   "execution_count": 2,
   "metadata": {},
   "outputs": [
    {
     "data": {
      "text/plain": [
       "'https://nigeriapropertycentre.com/for-sale/houses/detached-duplexes/lagos/showtype?page=1'"
      ]
     },
     "execution_count": 2,
     "metadata": {},
     "output_type": "execute_result"
    }
   ],
   "source": [
    "page = 1\n",
    "url = \"https://nigeriapropertycentre.com/for-sale/houses/detached-duplexes/lagos/showtype?page=\" + str(page)\n",
    "\n",
    "url"
   ]
  }
 ],
 "metadata": {
  "kernelspec": {
   "display_name": "Python 3",
   "language": "python",
   "name": "python3"
  },
  "language_info": {
   "codemirror_mode": {
    "name": "ipython",
    "version": 3
   },
   "file_extension": ".py",
   "mimetype": "text/x-python",
   "name": "python",
   "nbconvert_exporter": "python",
   "pygments_lexer": "ipython3",
   "version": "3.8.5"
  }
 },
 "nbformat": 4,
 "nbformat_minor": 4
}
