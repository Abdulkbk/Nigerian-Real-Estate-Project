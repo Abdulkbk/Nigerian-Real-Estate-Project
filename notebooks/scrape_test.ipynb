{
 "cells": [
  {
   "cell_type": "code",
   "execution_count": 1,
   "metadata": {},
   "outputs": [],
   "source": [
    "import requests\n",
    "from lxml import html\n",
    "from csv import writer"
   ]
  },
  {
   "cell_type": "code",
   "execution_count": 2,
   "metadata": {},
   "outputs": [],
   "source": [
    "url = \"https://nigeriapropertycentre.com/for-sale/houses/detached-duplexes/lagos/showtype?page=3\"\n",
    "\n",
    "response = requests.get(url)"
   ]
  },
  {
   "cell_type": "code",
   "execution_count": 3,
   "metadata": {},
   "outputs": [],
   "source": [
    "contents = html.fromstring(response.content)"
   ]
  },
  {
   "cell_type": "code",
   "execution_count": 4,
   "metadata": {},
   "outputs": [],
   "source": [
    "listings = contents.xpath(\"//div[@itemprop='itemListElement']\")"
   ]
  },
  {
   "cell_type": "code",
   "execution_count": 5,
   "metadata": {},
   "outputs": [
    {
     "data": {
      "text/plain": [
       "[<Element div at 0x24831a162c0>,\n",
       " <Element div at 0x24831a16310>,\n",
       " <Element div at 0x24831a16360>,\n",
       " <Element div at 0x24831a163b0>,\n",
       " <Element div at 0x24831a16400>,\n",
       " <Element div at 0x24831a16450>,\n",
       " <Element div at 0x24831a164a0>,\n",
       " <Element div at 0x24831a164f0>,\n",
       " <Element div at 0x24831a16540>,\n",
       " <Element div at 0x24831a16590>,\n",
       " <Element div at 0x24831a165e0>,\n",
       " <Element div at 0x24831a16630>,\n",
       " <Element div at 0x24831a16680>,\n",
       " <Element div at 0x24831a166d0>,\n",
       " <Element div at 0x24831a16720>,\n",
       " <Element div at 0x24831a16770>,\n",
       " <Element div at 0x24831a167c0>,\n",
       " <Element div at 0x24831a16810>,\n",
       " <Element div at 0x24831a16860>,\n",
       " <Element div at 0x24831a168b0>,\n",
       " <Element div at 0x24831a16900>]"
      ]
     },
     "execution_count": 5,
     "metadata": {},
     "output_type": "execute_result"
    }
   ],
   "source": [
    "listings"
   ]
  },
  {
   "cell_type": "code",
   "execution_count": null,
   "metadata": {},
   "outputs": [],
   "source": []
  },
  {
   "cell_type": "code",
   "execution_count": 6,
   "metadata": {},
   "outputs": [],
   "source": [
    "# town = listings[i].xpath(\".//address/strong/text()\")[0].split(\",\")[-2].strip()\n",
    "# title = title\n",
    "\n",
    "# for i in range(len(listings)):\n",
    "#     print(listings)\n",
    "# if \"Toilets\" in listings[0].xpath(\".//li\")[2].text_content():\n",
    "#     print(listings[0].xpath(\".//li\")[2].text_content())"
   ]
  },
  {
   "cell_type": "code",
   "execution_count": 7,
   "metadata": {},
   "outputs": [
    {
     "data": {
      "text/plain": [
       "155000000"
      ]
     },
     "execution_count": 7,
     "metadata": {},
     "output_type": "execute_result"
    }
   ],
   "source": [
    "price = listings[0].xpath(\".//span[@class='price']/text()\")\n",
    "\n",
    "int(price[1].replace(\",\",\"\"))"
   ]
  },
  {
   "cell_type": "code",
   "execution_count": 8,
   "metadata": {},
   "outputs": [
    {
     "name": "stdout",
     "output_type": "stream",
     "text": [
      "[5, 5, 6, 'None', 'Detached Duplex', 'Lekki', 'Lagos', 155000000.0]\n",
      "[6, 'None', 'None', 'None', 'Detached Duplex', 'Lekki', 'Lagos', 180000000.0]\n",
      "[6, 6, 7, 6, 'Detached Duplex', 'Ikeja', 'Lagos', 150000000.0]\n",
      "[5, 'None', 'None', 'None', 'Detached Duplex', 'Lekki', 'Lagos', 90000000.0]\n",
      "[5, 5, 6, 'None', 'Detached Duplex', 'Lekki', 'Lagos', 450000000.0]\n",
      "[5, 'None', 'None', 'None', 'Detached Duplex', 'Magodo', 'Lagos', 220000000.0]\n",
      "[5, 5, 6, 6, 'Detached Duplex', 'Lekki', 'Lagos', 370000000.0]\n",
      "[5, 5, 5, 5, 'Detached Duplex', 'Ilupeju', 'Lagos', 160000000.0]\n",
      "[5, 5, 6, 7, 'Detached Duplex', 'Lekki', 'Lagos', 180000000.0]\n",
      "[4, 4, 5, 6, 'Detached Duplex', 'Ajah', 'Lagos', 85000000.0]\n",
      "[5, 'None', 'None', 'None', 'Detached Duplex', 'Lekki', 'Lagos', 180000000.0]\n",
      "[6, 6, 7, 8, 'Detached Duplex', 'Lekki', 'Lagos', 160000000.0]\n",
      "[5, 5, 6, 6, 'Detached Duplex', 'Lekki', 'Lagos', 85000000.0]\n",
      "[5, 5, 6, 8, 'Detached Duplex', 'Ikoyi', 'Lagos', 750000000.0]\n",
      "[4, 4, 5, 6, 'Detached Duplex', 'Lekki', 'Lagos', 83000000.0]\n",
      "[5, 5, 6, 'None', 'Detached Duplex', 'Lekki', 'Lagos', 270000000.0]\n",
      "[5, 5, 6, 'None', 'Detached Duplex', 'Lekki', 'Lagos', 170000000.0]\n",
      "[5, 6, 7, 5, 'Detached Duplex', 'Lekki', 'Lagos', 120000000.0]\n",
      "[5, 5, 6, 6, 'Detached Duplex', 'Lekki', 'Lagos', 250000000.0]\n",
      "[5, 5, 6, 'None', 'Detached Duplex', 'Ajah', 'Lagos', 130000000.0]\n",
      "[5, 5, 6, 'None', 'Detached Duplex', 'Lekki', 'Lagos', 100000000.0]\n"
     ]
    }
   ],
   "source": [
    "with open(\"test.csv\", \"a\", encoding='UTF8', newline=\"\") as csv_file:\n",
    "    csv_writer = writer(csv_file)\n",
    "    headers = ['bedrooms', 'bathrooms', 'toilets', 'parking_space', 'title', 'town', 'state', 'price']\n",
    "#     csv_writer.writerow(headers)\n",
    "    \n",
    "    for i in range(len(listings)):\n",
    "        bedrooms = \"None\"\n",
    "        bathrooms = \"None\"\n",
    "        toilets = \"None\"\n",
    "        parking_space = \"None\"\n",
    "        title = \"Detached Duplex\"\n",
    "        town = listings[i].xpath(\".//address/strong/text()\")[0].split(\",\")[-2].strip()\n",
    "        state = \"Lagos\"\n",
    "        infos = listings[i].xpath(\".//li\")\n",
    "        price = float(listings[i].xpath(\".//span[@class='price']/text()\")[1].replace(\",\",\"\"))\n",
    "        for j in range(len(infos)):\n",
    "            if \"Bedroom\" in infos[j].text_content():\n",
    "                bedrooms = int(infos[j].text_content()[0])\n",
    "            if \"Bathrooms\" in infos[j].text_content():\n",
    "                bathrooms = int(infos[j].text_content()[0])\n",
    "            if \"Toilets\" in infos[j].text_content():\n",
    "                toilets = int(infos[j].text_content()[0])\n",
    "            if \"Parking\" in infos[j].text_content():\n",
    "                parking_space = int(infos[j].text_content()[0])\n",
    "\n",
    "        print([bedrooms, bathrooms, toilets, parking_space, title, town, state, price])\n",
    "        csv_writer.writerow([bedrooms, bathrooms, toilets, parking_space, title, town, state, price])"
   ]
  },
  {
   "cell_type": "code",
   "execution_count": null,
   "metadata": {},
   "outputs": [],
   "source": []
  }
 ],
 "metadata": {
  "kernelspec": {
   "display_name": "Python 3",
   "language": "python",
   "name": "python3"
  },
  "language_info": {
   "codemirror_mode": {
    "name": "ipython",
    "version": 3
   },
   "file_extension": ".py",
   "mimetype": "text/x-python",
   "name": "python",
   "nbconvert_exporter": "python",
   "pygments_lexer": "ipython3",
   "version": "3.8.5"
  }
 },
 "nbformat": 4,
 "nbformat_minor": 4
}
