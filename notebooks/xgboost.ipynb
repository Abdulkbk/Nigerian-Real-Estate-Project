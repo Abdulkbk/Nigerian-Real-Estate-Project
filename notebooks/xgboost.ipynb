{
 "cells": [
  {
   "cell_type": "code",
   "execution_count": 1,
   "metadata": {},
   "outputs": [],
   "source": [
    "import pandas as pd\n",
    "import numpy as np\n",
    "import matplotlib.pyplot as plt\n",
    "import seaborn as sn\n",
    "%matplotlib inline\n",
    "\n",
    "from xgboost import XGBRegressor\n",
    "\n",
    "from sklearn.preprocessing import OneHotEncoder, OrdinalEncoder, StandardScaler\n",
    "from sklearn.model_selection import train_test_split, cross_val_score\n",
    "from sklearn.pipeline import Pipeline\n",
    "from sklearn.compose import ColumnTransformer\n",
    "from sklearn.impute import SimpleImputer\n",
    "from sklearn.metrics import mean_squared_error\n",
    "from sklearn.model_selection import RandomizedSearchCV"
   ]
  },
  {
   "cell_type": "code",
   "execution_count": 2,
   "metadata": {},
   "outputs": [],
   "source": [
    "houses = pd.read_csv('../data/nigerian_houses.csv')"
   ]
  },
  {
   "cell_type": "code",
   "execution_count": 3,
   "metadata": {},
   "outputs": [],
   "source": [
    "data_train, data_test = train_test_split(houses, test_size=0.2, random_state=42)"
   ]
  },
  {
   "cell_type": "code",
   "execution_count": 4,
   "metadata": {},
   "outputs": [],
   "source": [
    "features = data_train.drop(columns=['price'])\n",
    "\n",
    "target = data_train['price']"
   ]
  },
  {
   "cell_type": "code",
   "execution_count": 5,
   "metadata": {},
   "outputs": [],
   "source": [
    "def attr_adder(dataframe):\n",
    "    \n",
    "    dataframe['bathrooms_per_bedrooms'] = dataframe['bathrooms'] / dataframe['bedrooms']\n",
    "    dataframe['bedrooms_per_bathrooms'] = dataframe['bedrooms'] / dataframe['bathrooms']\n",
    "    dataframe['bedrooms_bathrooms'] = dataframe['bedrooms'] * dataframe['bathrooms']\n",
    "    dataframe['bathrooms_toilets'] = dataframe['bathrooms'] * dataframe['toilets']\n",
    "    \n",
    "    return dataframe"
   ]
  },
  {
   "cell_type": "code",
   "execution_count": 6,
   "metadata": {},
   "outputs": [],
   "source": [
    "num_pipeline = Pipeline([\n",
    "    ('imputer', SimpleImputer(strategy=\"median\")),\n",
    "    ('std_scaler', StandardScaler())\n",
    "])"
   ]
  },
  {
   "cell_type": "code",
   "execution_count": 7,
   "metadata": {},
   "outputs": [],
   "source": [
    "features = attr_adder(features)"
   ]
  },
  {
   "cell_type": "code",
   "execution_count": 8,
   "metadata": {},
   "outputs": [
    {
     "data": {
      "text/html": [
       "<div>\n",
       "<style scoped>\n",
       "    .dataframe tbody tr th:only-of-type {\n",
       "        vertical-align: middle;\n",
       "    }\n",
       "\n",
       "    .dataframe tbody tr th {\n",
       "        vertical-align: top;\n",
       "    }\n",
       "\n",
       "    .dataframe thead th {\n",
       "        text-align: right;\n",
       "    }\n",
       "</style>\n",
       "<table border=\"1\" class=\"dataframe\">\n",
       "  <thead>\n",
       "    <tr style=\"text-align: right;\">\n",
       "      <th></th>\n",
       "      <th>bedrooms</th>\n",
       "      <th>bathrooms</th>\n",
       "      <th>toilets</th>\n",
       "      <th>parking_space</th>\n",
       "      <th>title</th>\n",
       "      <th>town</th>\n",
       "      <th>state</th>\n",
       "      <th>bathrooms_per_bedrooms</th>\n",
       "      <th>bedrooms_per_bathrooms</th>\n",
       "      <th>bedrooms_bathrooms</th>\n",
       "      <th>bathrooms_toilets</th>\n",
       "    </tr>\n",
       "  </thead>\n",
       "  <tbody>\n",
       "    <tr>\n",
       "      <th>4058</th>\n",
       "      <td>4.0</td>\n",
       "      <td>4.0</td>\n",
       "      <td>5.0</td>\n",
       "      <td>NaN</td>\n",
       "      <td>Detached Duplex</td>\n",
       "      <td>Lekki</td>\n",
       "      <td>Lagos</td>\n",
       "      <td>1.0</td>\n",
       "      <td>1.0</td>\n",
       "      <td>16.0</td>\n",
       "      <td>20.0</td>\n",
       "    </tr>\n",
       "    <tr>\n",
       "      <th>15290</th>\n",
       "      <td>4.0</td>\n",
       "      <td>4.0</td>\n",
       "      <td>5.0</td>\n",
       "      <td>4.0</td>\n",
       "      <td>Detached Duplex</td>\n",
       "      <td>Lekki</td>\n",
       "      <td>Lagos</td>\n",
       "      <td>1.0</td>\n",
       "      <td>1.0</td>\n",
       "      <td>16.0</td>\n",
       "      <td>20.0</td>\n",
       "    </tr>\n",
       "    <tr>\n",
       "      <th>19500</th>\n",
       "      <td>4.0</td>\n",
       "      <td>4.0</td>\n",
       "      <td>5.0</td>\n",
       "      <td>3.0</td>\n",
       "      <td>Detached Duplex</td>\n",
       "      <td>Lekki</td>\n",
       "      <td>Lagos</td>\n",
       "      <td>1.0</td>\n",
       "      <td>1.0</td>\n",
       "      <td>16.0</td>\n",
       "      <td>20.0</td>\n",
       "    </tr>\n",
       "    <tr>\n",
       "      <th>3461</th>\n",
       "      <td>1.0</td>\n",
       "      <td>1.0</td>\n",
       "      <td>1.0</td>\n",
       "      <td>NaN</td>\n",
       "      <td>Detached Duplex</td>\n",
       "      <td>Ikeja</td>\n",
       "      <td>Lagos</td>\n",
       "      <td>1.0</td>\n",
       "      <td>1.0</td>\n",
       "      <td>1.0</td>\n",
       "      <td>1.0</td>\n",
       "    </tr>\n",
       "    <tr>\n",
       "      <th>977</th>\n",
       "      <td>4.0</td>\n",
       "      <td>4.0</td>\n",
       "      <td>5.0</td>\n",
       "      <td>NaN</td>\n",
       "      <td>Terraced Duplexes</td>\n",
       "      <td>Guzape District</td>\n",
       "      <td>Abuja</td>\n",
       "      <td>1.0</td>\n",
       "      <td>1.0</td>\n",
       "      <td>16.0</td>\n",
       "      <td>20.0</td>\n",
       "    </tr>\n",
       "  </tbody>\n",
       "</table>\n",
       "</div>"
      ],
      "text/plain": [
       "       bedrooms  bathrooms  toilets  parking_space              title  \\\n",
       "4058        4.0        4.0      5.0            NaN    Detached Duplex   \n",
       "15290       4.0        4.0      5.0            4.0    Detached Duplex   \n",
       "19500       4.0        4.0      5.0            3.0    Detached Duplex   \n",
       "3461        1.0        1.0      1.0            NaN    Detached Duplex   \n",
       "977         4.0        4.0      5.0            NaN  Terraced Duplexes   \n",
       "\n",
       "                  town  state  bathrooms_per_bedrooms  bedrooms_per_bathrooms  \\\n",
       "4058             Lekki  Lagos                     1.0                     1.0   \n",
       "15290            Lekki  Lagos                     1.0                     1.0   \n",
       "19500            Lekki  Lagos                     1.0                     1.0   \n",
       "3461             Ikeja  Lagos                     1.0                     1.0   \n",
       "977    Guzape District  Abuja                     1.0                     1.0   \n",
       "\n",
       "       bedrooms_bathrooms  bathrooms_toilets  \n",
       "4058                 16.0               20.0  \n",
       "15290                16.0               20.0  \n",
       "19500                16.0               20.0  \n",
       "3461                  1.0                1.0  \n",
       "977                  16.0               20.0  "
      ]
     },
     "execution_count": 8,
     "metadata": {},
     "output_type": "execute_result"
    }
   ],
   "source": [
    "features.head()"
   ]
  },
  {
   "cell_type": "code",
   "execution_count": 9,
   "metadata": {},
   "outputs": [],
   "source": [
    "def full_pipe(dataframe, transform=False):\n",
    "    \n",
    "    num_attr = list(dataframe.drop(columns=['title', 'town', 'state']))\n",
    "\n",
    "    cat_attr = ['title', 'town', 'state']\n",
    "    \n",
    "    result = ColumnTransformer([\n",
    "        ('num', num_pipeline, num_attr),\n",
    "        ('cat', OrdinalEncoder(), cat_attr)\n",
    "    ])\n",
    "    \n",
    "    if transform:\n",
    "        return result.transform(dataframe)\n",
    "    return result.fit_transform(dataframe)"
   ]
  },
  {
   "cell_type": "code",
   "execution_count": 10,
   "metadata": {},
   "outputs": [],
   "source": [
    "prepared_data = full_pipe(features)"
   ]
  },
  {
   "cell_type": "code",
   "execution_count": 12,
   "metadata": {},
   "outputs": [
    {
     "data": {
      "text/html": [
       "<div>\n",
       "<style scoped>\n",
       "    .dataframe tbody tr th:only-of-type {\n",
       "        vertical-align: middle;\n",
       "    }\n",
       "\n",
       "    .dataframe tbody tr th {\n",
       "        vertical-align: top;\n",
       "    }\n",
       "\n",
       "    .dataframe thead th {\n",
       "        text-align: right;\n",
       "    }\n",
       "</style>\n",
       "<table border=\"1\" class=\"dataframe\">\n",
       "  <thead>\n",
       "    <tr style=\"text-align: right;\">\n",
       "      <th></th>\n",
       "      <th>0</th>\n",
       "      <th>1</th>\n",
       "      <th>2</th>\n",
       "      <th>3</th>\n",
       "      <th>4</th>\n",
       "      <th>5</th>\n",
       "      <th>6</th>\n",
       "      <th>7</th>\n",
       "      <th>8</th>\n",
       "      <th>9</th>\n",
       "      <th>10</th>\n",
       "    </tr>\n",
       "  </thead>\n",
       "  <tbody>\n",
       "    <tr>\n",
       "      <th>0</th>\n",
       "      <td>-0.296297</td>\n",
       "      <td>-0.514351</td>\n",
       "      <td>-0.141636</td>\n",
       "      <td>-0.031299</td>\n",
       "      <td>-0.203960</td>\n",
       "      <td>0.013177</td>\n",
       "      <td>-0.498936</td>\n",
       "      <td>-0.464075</td>\n",
       "      <td>2.0</td>\n",
       "      <td>117.0</td>\n",
       "      <td>16.0</td>\n",
       "    </tr>\n",
       "    <tr>\n",
       "      <th>1</th>\n",
       "      <td>-0.296297</td>\n",
       "      <td>-0.514351</td>\n",
       "      <td>-0.141636</td>\n",
       "      <td>-0.031299</td>\n",
       "      <td>-0.203960</td>\n",
       "      <td>0.013177</td>\n",
       "      <td>-0.498936</td>\n",
       "      <td>-0.464075</td>\n",
       "      <td>2.0</td>\n",
       "      <td>117.0</td>\n",
       "      <td>16.0</td>\n",
       "    </tr>\n",
       "    <tr>\n",
       "      <th>2</th>\n",
       "      <td>-0.296297</td>\n",
       "      <td>-0.514351</td>\n",
       "      <td>-0.141636</td>\n",
       "      <td>-0.742841</td>\n",
       "      <td>-0.203960</td>\n",
       "      <td>0.013177</td>\n",
       "      <td>-0.498936</td>\n",
       "      <td>-0.464075</td>\n",
       "      <td>2.0</td>\n",
       "      <td>117.0</td>\n",
       "      <td>16.0</td>\n",
       "    </tr>\n",
       "    <tr>\n",
       "      <th>3</th>\n",
       "      <td>-2.956680</td>\n",
       "      <td>-3.111915</td>\n",
       "      <td>-3.425792</td>\n",
       "      <td>-0.031299</td>\n",
       "      <td>-0.203960</td>\n",
       "      <td>0.013177</td>\n",
       "      <td>-2.065625</td>\n",
       "      <td>-2.288518</td>\n",
       "      <td>2.0</td>\n",
       "      <td>74.0</td>\n",
       "      <td>16.0</td>\n",
       "    </tr>\n",
       "    <tr>\n",
       "      <th>4</th>\n",
       "      <td>-0.296297</td>\n",
       "      <td>-0.514351</td>\n",
       "      <td>-0.141636</td>\n",
       "      <td>-0.031299</td>\n",
       "      <td>-0.203960</td>\n",
       "      <td>0.013177</td>\n",
       "      <td>-0.498936</td>\n",
       "      <td>-0.464075</td>\n",
       "      <td>6.0</td>\n",
       "      <td>52.0</td>\n",
       "      <td>1.0</td>\n",
       "    </tr>\n",
       "    <tr>\n",
       "      <th>...</th>\n",
       "      <td>...</td>\n",
       "      <td>...</td>\n",
       "      <td>...</td>\n",
       "      <td>...</td>\n",
       "      <td>...</td>\n",
       "      <td>...</td>\n",
       "      <td>...</td>\n",
       "      <td>...</td>\n",
       "      <td>...</td>\n",
       "      <td>...</td>\n",
       "      <td>...</td>\n",
       "    </tr>\n",
       "    <tr>\n",
       "      <th>19455</th>\n",
       "      <td>-0.296297</td>\n",
       "      <td>-0.514351</td>\n",
       "      <td>-0.141636</td>\n",
       "      <td>2.814868</td>\n",
       "      <td>-0.203960</td>\n",
       "      <td>0.013177</td>\n",
       "      <td>-0.498936</td>\n",
       "      <td>-0.464075</td>\n",
       "      <td>2.0</td>\n",
       "      <td>87.0</td>\n",
       "      <td>16.0</td>\n",
       "    </tr>\n",
       "    <tr>\n",
       "      <th>19456</th>\n",
       "      <td>0.590497</td>\n",
       "      <td>1.217358</td>\n",
       "      <td>1.500443</td>\n",
       "      <td>-2.165924</td>\n",
       "      <td>0.695684</td>\n",
       "      <td>-0.407504</td>\n",
       "      <td>0.963307</td>\n",
       "      <td>1.648438</td>\n",
       "      <td>2.0</td>\n",
       "      <td>9.0</td>\n",
       "      <td>16.0</td>\n",
       "    </tr>\n",
       "    <tr>\n",
       "      <th>19457</th>\n",
       "      <td>0.590497</td>\n",
       "      <td>0.351503</td>\n",
       "      <td>0.679404</td>\n",
       "      <td>-0.031299</td>\n",
       "      <td>-0.203960</td>\n",
       "      <td>0.013177</td>\n",
       "      <td>0.441077</td>\n",
       "      <td>0.496158</td>\n",
       "      <td>2.0</td>\n",
       "      <td>117.0</td>\n",
       "      <td>16.0</td>\n",
       "    </tr>\n",
       "    <tr>\n",
       "      <th>19458</th>\n",
       "      <td>0.590497</td>\n",
       "      <td>1.217358</td>\n",
       "      <td>0.679404</td>\n",
       "      <td>-0.031299</td>\n",
       "      <td>0.695684</td>\n",
       "      <td>-0.407504</td>\n",
       "      <td>0.963307</td>\n",
       "      <td>1.072298</td>\n",
       "      <td>2.0</td>\n",
       "      <td>105.0</td>\n",
       "      <td>1.0</td>\n",
       "    </tr>\n",
       "    <tr>\n",
       "      <th>19459</th>\n",
       "      <td>-1.183091</td>\n",
       "      <td>-1.380206</td>\n",
       "      <td>-0.962675</td>\n",
       "      <td>-0.031299</td>\n",
       "      <td>-0.203960</td>\n",
       "      <td>0.013177</td>\n",
       "      <td>-1.230057</td>\n",
       "      <td>-1.232261</td>\n",
       "      <td>0.0</td>\n",
       "      <td>90.0</td>\n",
       "      <td>1.0</td>\n",
       "    </tr>\n",
       "  </tbody>\n",
       "</table>\n",
       "<p>19460 rows × 11 columns</p>\n",
       "</div>"
      ],
      "text/plain": [
       "             0         1         2         3         4         5         6   \\\n",
       "0     -0.296297 -0.514351 -0.141636 -0.031299 -0.203960  0.013177 -0.498936   \n",
       "1     -0.296297 -0.514351 -0.141636 -0.031299 -0.203960  0.013177 -0.498936   \n",
       "2     -0.296297 -0.514351 -0.141636 -0.742841 -0.203960  0.013177 -0.498936   \n",
       "3     -2.956680 -3.111915 -3.425792 -0.031299 -0.203960  0.013177 -2.065625   \n",
       "4     -0.296297 -0.514351 -0.141636 -0.031299 -0.203960  0.013177 -0.498936   \n",
       "...         ...       ...       ...       ...       ...       ...       ...   \n",
       "19455 -0.296297 -0.514351 -0.141636  2.814868 -0.203960  0.013177 -0.498936   \n",
       "19456  0.590497  1.217358  1.500443 -2.165924  0.695684 -0.407504  0.963307   \n",
       "19457  0.590497  0.351503  0.679404 -0.031299 -0.203960  0.013177  0.441077   \n",
       "19458  0.590497  1.217358  0.679404 -0.031299  0.695684 -0.407504  0.963307   \n",
       "19459 -1.183091 -1.380206 -0.962675 -0.031299 -0.203960  0.013177 -1.230057   \n",
       "\n",
       "             7    8      9     10  \n",
       "0     -0.464075  2.0  117.0  16.0  \n",
       "1     -0.464075  2.0  117.0  16.0  \n",
       "2     -0.464075  2.0  117.0  16.0  \n",
       "3     -2.288518  2.0   74.0  16.0  \n",
       "4     -0.464075  6.0   52.0   1.0  \n",
       "...         ...  ...    ...   ...  \n",
       "19455 -0.464075  2.0   87.0  16.0  \n",
       "19456  1.648438  2.0    9.0  16.0  \n",
       "19457  0.496158  2.0  117.0  16.0  \n",
       "19458  1.072298  2.0  105.0   1.0  \n",
       "19459 -1.232261  0.0   90.0   1.0  \n",
       "\n",
       "[19460 rows x 11 columns]"
      ]
     },
     "execution_count": 12,
     "metadata": {},
     "output_type": "execute_result"
    }
   ],
   "source": [
    "pd.DataFrame(prepared_data)"
   ]
  },
  {
   "cell_type": "code",
   "execution_count": 13,
   "metadata": {},
   "outputs": [],
   "source": [
    "xgb = XGBRegressor(random_state=42)"
   ]
  },
  {
   "cell_type": "code",
   "execution_count": 14,
   "metadata": {},
   "outputs": [
    {
     "data": {
      "text/plain": [
       "XGBRegressor(base_score=0.5, booster='gbtree', colsample_bylevel=1,\n",
       "             colsample_bynode=1, colsample_bytree=1, gamma=0, gpu_id=-1,\n",
       "             importance_type='gain', interaction_constraints='',\n",
       "             learning_rate=0.300000012, max_delta_step=0, max_depth=6,\n",
       "             min_child_weight=1, missing=nan, monotone_constraints='()',\n",
       "             n_estimators=100, n_jobs=4, num_parallel_tree=1, random_state=42,\n",
       "             reg_alpha=0, reg_lambda=1, scale_pos_weight=1, subsample=1,\n",
       "             tree_method='exact', validate_parameters=1, verbosity=None)"
      ]
     },
     "execution_count": 14,
     "metadata": {},
     "output_type": "execute_result"
    }
   ],
   "source": [
    "xgb.fit(prepared_data, target)"
   ]
  },
  {
   "cell_type": "code",
   "execution_count": 15,
   "metadata": {},
   "outputs": [
    {
     "name": "stdout",
     "output_type": "stream",
     "text": [
      "Predictions:  [ 8.7815610e+08  1.2926344e+09  2.4178312e+08  7.6132040e+07\n",
      " -2.3899744e+07]\n",
      "Labels:  [75000000.0, 120000000.0, 70000000.0, 600000000.0, 95000000.0]\n",
      "Error:  683844325.05\n"
     ]
    }
   ],
   "source": [
    "some_data = full_pipe(features.iloc[:5])\n",
    "some_labels = target.iloc[:5]\n",
    "\n",
    "\n",
    "some_pred = xgb.predict(some_data)\n",
    "\n",
    "print(\"Predictions: \", some_pred)\n",
    "print(\"Labels: \", list(some_labels))\n",
    "print(\"Error: \", float(\"{:.2f}\".format(mean_squared_error(some_labels, some_pred, squared=False))))"
   ]
  },
  {
   "cell_type": "code",
   "execution_count": 16,
   "metadata": {},
   "outputs": [
    {
     "data": {
      "text/plain": [
       "1.273369047898411e+20"
      ]
     },
     "execution_count": 16,
     "metadata": {},
     "output_type": "execute_result"
    }
   ],
   "source": [
    "predictions = xgb.predict(prepared_data)\n",
    "\n",
    "reg_mse = mean_squared_error(target, predictions)\n",
    "\n",
    "reg_mse"
   ]
  },
  {
   "cell_type": "code",
   "execution_count": 17,
   "metadata": {},
   "outputs": [],
   "source": [
    "scores = cross_val_score(xgb, prepared_data, target, cv=10, n_jobs=-1, scoring=\"neg_mean_squared_error\")\n",
    "\n",
    "results = np.sqrt(-scores)"
   ]
  },
  {
   "cell_type": "code",
   "execution_count": 18,
   "metadata": {},
   "outputs": [],
   "source": [
    "def display_score(scores):\n",
    "    print(\"Scores:\", scores)\n",
    "    print(\"Mean:\", scores.mean())\n",
    "    print(\"Standard deviation: \", float(\"{:.2f}\".format(scores.std())))"
   ]
  },
  {
   "cell_type": "code",
   "execution_count": null,
   "metadata": {},
   "outputs": [],
   "source": []
  },
  {
   "cell_type": "code",
   "execution_count": 19,
   "metadata": {},
   "outputs": [
    {
     "name": "stdout",
     "output_type": "stream",
     "text": [
      "Scores: [5.67139894e+08 4.16410923e+09 7.27281673e+08 4.29388560e+10\n",
      " 3.04658922e+09 2.04020636e+10 1.96481407e+10 3.78178268e+09\n",
      " 1.37511432e+10 2.06050962e+10]\n",
      "Mean: 12963220239.489145\n",
      "Standard deviation:  12731952332.7\n"
     ]
    }
   ],
   "source": [
    "display_score(results)"
   ]
  },
  {
   "cell_type": "markdown",
   "metadata": {},
   "source": [
    "## Fine tunning model"
   ]
  },
  {
   "cell_type": "code",
   "execution_count": 20,
   "metadata": {},
   "outputs": [],
   "source": [
    "params = {\n",
    "    \"learning_rate\": [0.005, 0.01, 0.02, 0.1, 0.2],\n",
    "    \"max_depth\": [2, 3, 5, 7, 8],\n",
    "    \"gamma\": [0.05, 0.01, 0.1, 0.3, 0.5],\n",
    "    \"subsample\": [0.7, 0.8, 0.9, 1.0],\n",
    "    \"n_estimators\": [150, 200, 350, 500],\n",
    "}"
   ]
  },
  {
   "cell_type": "code",
   "execution_count": 21,
   "metadata": {},
   "outputs": [],
   "source": [
    "rand_model = RandomizedSearchCV(xgb, param_distributions=params, scoring=\"neg_mean_squared_error\", cv=10, n_jobs=-1,\n",
    "                             return_train_score=True)"
   ]
  },
  {
   "cell_type": "code",
   "execution_count": 22,
   "metadata": {},
   "outputs": [],
   "source": [
    "_results = rand_model.fit(prepared_data, target)"
   ]
  },
  {
   "cell_type": "code",
   "execution_count": 24,
   "metadata": {},
   "outputs": [
    {
     "data": {
      "text/plain": [
       "{'subsample': 1.0,\n",
       " 'n_estimators': 350,\n",
       " 'max_depth': 2,\n",
       " 'learning_rate': 0.005,\n",
       " 'gamma': 0.3}"
      ]
     },
     "execution_count": 24,
     "metadata": {},
     "output_type": "execute_result"
    }
   ],
   "source": [
    "# best params subsample=1.0, n_estimators = 350, max_depth=2 learning_rate=0.005 gamma = 0.3\n",
    "_results.best_params_"
   ]
  },
  {
   "cell_type": "code",
   "execution_count": 25,
   "metadata": {},
   "outputs": [],
   "source": [
    "best_model_1 = _results.best_estimator_"
   ]
  },
  {
   "cell_type": "markdown",
   "metadata": {},
   "source": [
    "### Fine tuning again"
   ]
  },
  {
   "cell_type": "code",
   "execution_count": 26,
   "metadata": {},
   "outputs": [],
   "source": [
    "params_2 = {\n",
    "    \"learning_rate\": [0.001, 0.003, 0.005, 0.009],\n",
    "    \"max_depth\": [1, 2, 3, 8],\n",
    "    \"gamma\": [0.1, 0.2, 0.3, 0.5, 0.7],\n",
    "    \"subsample\": [0.7, 0.9, 1.0],\n",
    "    \"n_estimators\": [250, 350, 400, 500],\n",
    "}"
   ]
  },
  {
   "cell_type": "code",
   "execution_count": 27,
   "metadata": {},
   "outputs": [],
   "source": [
    "rand_model_2 = RandomizedSearchCV(xgb, param_distributions=params_2, scoring=\"neg_mean_squared_error\", cv=10, n_jobs=-1,\n",
    "                             return_train_score=True)"
   ]
  },
  {
   "cell_type": "code",
   "execution_count": 28,
   "metadata": {},
   "outputs": [],
   "source": [
    "result_1 = _results"
   ]
  },
  {
   "cell_type": "code",
   "execution_count": 29,
   "metadata": {},
   "outputs": [],
   "source": [
    "result_2 = rand_model_2.fit(prepared_data, target)"
   ]
  },
  {
   "cell_type": "code",
   "execution_count": 32,
   "metadata": {},
   "outputs": [
    {
     "data": {
      "text/plain": [
       "{'subsample': 0.9,\n",
       " 'n_estimators': 500,\n",
       " 'max_depth': 1,\n",
       " 'learning_rate': 0.001,\n",
       " 'gamma': 0.5}"
      ]
     },
     "execution_count": 32,
     "metadata": {},
     "output_type": "execute_result"
    }
   ],
   "source": [
    "# subsample = 0.9, n_estm = 500, max_depth = 1, learnin_rate = 0.001, gamma = 0.5\n",
    "\n",
    "result_2.best_params_"
   ]
  },
  {
   "cell_type": "code",
   "execution_count": 31,
   "metadata": {},
   "outputs": [],
   "source": [
    "best_model_2 = result_2.best_estimator_"
   ]
  },
  {
   "cell_type": "code",
   "execution_count": 33,
   "metadata": {},
   "outputs": [
    {
     "name": "stdout",
     "output_type": "stream",
     "text": [
      "Predictions:  [1.9064739e+08 2.1886443e+08 2.1886443e+08 1.9064739e+08 2.1886443e+08\n",
      " 2.1886443e+08 2.1886443e+08 1.9064739e+08 2.1886443e+08 1.9987480e+08\n",
      " 2.1886443e+08 2.1886443e+08 1.9064739e+08 2.1886443e+08 1.9064739e+08]\n",
      "Labels:  [28500000.0, 49000000.0, 88000000.0, 130000000.0, 150000000.0, 82000000.0, 150000000.0, 22000000.0, 60000000.0, 88000000.0, 90000000.0, 75000000.0, 65000000.0, 150000000.0, 250000000.0]\n",
      "Error:  124289164.91\n"
     ]
    }
   ],
   "source": [
    "some_data_ = full_pipe(features.iloc[5:20])\n",
    "some_labels_ = target.iloc[5:20]\n",
    "\n",
    "\n",
    "some_pred_1 = best_model_1.predict(some_data_)\n",
    "\n",
    "print(\"Predictions: \", some_pred_1)\n",
    "print(\"Labels: \", list(some_labels_))\n",
    "print(\"Error: \", float(\"{:.2f}\".format(mean_squared_error(some_labels_, some_pred_1, squared=False))))"
   ]
  },
  {
   "cell_type": "code",
   "execution_count": 34,
   "metadata": {},
   "outputs": [
    {
     "name": "stdout",
     "output_type": "stream",
     "text": [
      "Predictions:  [85469690. 85469690. 85469690. 85469690. 85469690. 85469690. 85469690.\n",
      " 85469690. 85469690. 85469690. 85469690. 85469690. 85469690. 85469690.\n",
      " 85469690.]\n",
      "Labels:  [28500000.0, 49000000.0, 88000000.0, 130000000.0, 150000000.0, 82000000.0, 150000000.0, 22000000.0, 60000000.0, 88000000.0, 90000000.0, 75000000.0, 65000000.0, 150000000.0, 250000000.0]\n",
      "Error:  58521981.89\n"
     ]
    }
   ],
   "source": [
    "some_pred_2 = best_model_2.predict(some_data_)\n",
    "\n",
    "\n",
    "print(\"Predictions: \", some_pred_2)\n",
    "print(\"Labels: \", list(some_labels_))\n",
    "print(\"Error: \", float(\"{:.2f}\".format(mean_squared_error(some_labels_, some_pred_2, squared=False))))"
   ]
  },
  {
   "cell_type": "code",
   "execution_count": 35,
   "metadata": {},
   "outputs": [
    {
     "data": {
      "text/plain": [
       "1.8168168806817772e+20"
      ]
     },
     "execution_count": 35,
     "metadata": {},
     "output_type": "execute_result"
    }
   ],
   "source": [
    "predictions_1 = best_model_1.predict(prepared_data)\n",
    "\n",
    "reg_mse_1 = mean_squared_error(target, predictions_1)\n",
    "\n",
    "reg_mse_1"
   ]
  },
  {
   "cell_type": "code",
   "execution_count": 36,
   "metadata": {},
   "outputs": [
    {
     "data": {
      "text/plain": [
       "1.857575854393379e+20"
      ]
     },
     "execution_count": 36,
     "metadata": {},
     "output_type": "execute_result"
    }
   ],
   "source": [
    "predictions_2 = best_model_2.predict(prepared_data)\n",
    "\n",
    "reg_mse_2 = mean_squared_error(target, predictions_2)\n",
    "\n",
    "reg_mse_2"
   ]
  },
  {
   "cell_type": "markdown",
   "metadata": {},
   "source": [
    "## Cross Validation with fine-tuned best models"
   ]
  },
  {
   "cell_type": "code",
   "execution_count": 37,
   "metadata": {},
   "outputs": [],
   "source": [
    "scores_1 = cross_val_score(best_model_1, prepared_data, target, cv=10, n_jobs=-1, scoring=\"neg_mean_squared_error\")\n",
    "\n",
    "re_1 = np.sqrt(-scores_1)"
   ]
  },
  {
   "cell_type": "code",
   "execution_count": 38,
   "metadata": {},
   "outputs": [],
   "source": [
    "scores_2 = cross_val_score(best_model_2, prepared_data, target, cv=10, n_jobs=-1, scoring=\"neg_mean_squared_error\")\n",
    "\n",
    "re_2 = np.sqrt(-scores_2)"
   ]
  },
  {
   "cell_type": "code",
   "execution_count": 39,
   "metadata": {},
   "outputs": [],
   "source": [
    "def display_score(scores):\n",
    "    print(\"Scores:\", scores)\n",
    "    print(\"Mean:\", scores.mean())\n",
    "    print(\"Standard deviation: \", float(\"{:.2f}\".format(scores.std())))"
   ]
  },
  {
   "cell_type": "code",
   "execution_count": 40,
   "metadata": {},
   "outputs": [
    {
     "name": "stdout",
     "output_type": "stream",
     "text": [
      "Scores: [1.69295026e+09 1.94453004e+09 1.46685538e+09 4.29596937e+10\n",
      " 3.05701341e+09 1.55441675e+09 1.26049025e+09 1.78325549e+09\n",
      " 2.67790105e+09 1.72933208e+09]\n",
      "Mean: 6012643841.63992\n",
      "Standard deviation:  12326830444.75\n"
     ]
    }
   ],
   "source": [
    "display_score(re_1)"
   ]
  },
  {
   "cell_type": "code",
   "execution_count": 41,
   "metadata": {},
   "outputs": [
    {
     "name": "stdout",
     "output_type": "stream",
     "text": [
      "Scores: [4.21157833e+08 1.27032969e+09 5.05053501e+08 4.29718461e+10\n",
      " 2.86246966e+09 5.96839810e+08 4.24557988e+08 3.90122861e+08\n",
      " 2.01263396e+09 1.13681656e+09]\n",
      "Mean: 5259182794.736845\n",
      "Standard deviation:  12594685994.54\n"
     ]
    }
   ],
   "source": [
    "display_score(re_2)"
   ]
  },
  {
   "cell_type": "code",
   "execution_count": null,
   "metadata": {},
   "outputs": [],
   "source": []
  }
 ],
 "metadata": {
  "kernelspec": {
   "display_name": "Python 3",
   "language": "python",
   "name": "python3"
  },
  "language_info": {
   "codemirror_mode": {
    "name": "ipython",
    "version": 3
   },
   "file_extension": ".py",
   "mimetype": "text/x-python",
   "name": "python",
   "nbconvert_exporter": "python",
   "pygments_lexer": "ipython3",
   "version": "3.8.5"
  }
 },
 "nbformat": 4,
 "nbformat_minor": 4
}
