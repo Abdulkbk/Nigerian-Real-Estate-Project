{
 "cells": [
  {
   "cell_type": "code",
   "execution_count": 1,
   "metadata": {},
   "outputs": [],
   "source": [
    "import requests\n",
    "from lxml import html\n",
    "from csv import writer"
   ]
  },
  {
   "cell_type": "code",
   "execution_count": 2,
   "metadata": {},
   "outputs": [],
   "source": [
    "url = \"https://nigeriapropertycentre.com/for-sale/houses/detached-duplexes/lagos/showtype\"\n",
    "\n",
    "response = requests.get(url)"
   ]
  },
  {
   "cell_type": "code",
   "execution_count": 3,
   "metadata": {},
   "outputs": [],
   "source": [
    "contents = html.fromstring(response.content)"
   ]
  },
  {
   "cell_type": "code",
   "execution_count": 5,
   "metadata": {},
   "outputs": [],
   "source": [
    "listings = contents.xpath(\"//div[@itemprop='itemListElement']\")"
   ]
  },
  {
   "cell_type": "code",
   "execution_count": 6,
   "metadata": {},
   "outputs": [
    {
     "data": {
      "text/plain": [
       "[<Element div at 0x18a6a71cc20>,\n",
       " <Element div at 0x18a681b60e0>,\n",
       " <Element div at 0x18a6a6ae720>,\n",
       " <Element div at 0x18a6a6ae770>,\n",
       " <Element div at 0x18a6a6ae7c0>,\n",
       " <Element div at 0x18a6a6ae810>,\n",
       " <Element div at 0x18a6a6ae860>,\n",
       " <Element div at 0x18a6a6ae8b0>,\n",
       " <Element div at 0x18a6a6ae900>,\n",
       " <Element div at 0x18a6a6ae950>,\n",
       " <Element div at 0x18a6a6ae9a0>,\n",
       " <Element div at 0x18a6a6ae9f0>,\n",
       " <Element div at 0x18a6a6aea40>,\n",
       " <Element div at 0x18a6a6aea90>,\n",
       " <Element div at 0x18a6a6aeae0>,\n",
       " <Element div at 0x18a6a6aeb30>,\n",
       " <Element div at 0x18a6a6aeb80>,\n",
       " <Element div at 0x18a6a6aebd0>,\n",
       " <Element div at 0x18a6a6aec20>,\n",
       " <Element div at 0x18a6a6aec70>,\n",
       " <Element div at 0x18a6a6aecc0>]"
      ]
     },
     "execution_count": 6,
     "metadata": {},
     "output_type": "execute_result"
    }
   ],
   "source": [
    "listings"
   ]
  },
  {
   "cell_type": "code",
   "execution_count": 27,
   "metadata": {},
   "outputs": [],
   "source": [
    "title = \"Detached Duplex\"\n",
    "bedrooms = \"None\"\n",
    "bathrooms = \"None\"\n",
    "toilets = \"None\"\n",
    "parking_space = \"None\"\n",
    "price = 0.0"
   ]
  },
  {
   "cell_type": "code",
   "execution_count": 47,
   "metadata": {},
   "outputs": [
    {
     "name": "stdout",
     "output_type": "stream",
     "text": [
      "7 Toilets\n"
     ]
    }
   ],
   "source": [
    "town = listings[i].xpath(\".//address/strong/text()\")[0].split(\",\")[-2].strip()\n",
    "title = title\n",
    "\n",
    "# for i in range(len(listings)):\n",
    "#     print(listings)\n",
    "# if \"Toilets\" in listings[0].xpath(\".//li\")[2].text_content():\n",
    "#     print(listings[0].xpath(\".//li\")[2].text_content())"
   ]
  },
  {
   "cell_type": "code",
   "execution_count": 71,
   "metadata": {},
   "outputs": [
    {
     "name": "stdout",
     "output_type": "stream",
     "text": [
      "6\n",
      "4\n",
      "6\n",
      "5\n",
      "6\n",
      "5\n",
      "5\n",
      "5\n",
      "5\n",
      "6\n",
      "5\n",
      "5\n",
      "5\n",
      "5\n",
      "4\n",
      "4\n",
      "5\n",
      "5\n",
      "4\n",
      "5\n",
      "5\n"
     ]
    }
   ],
   "source": [
    "for i in range(len(listings)):\n",
    "    infos = listings[i].xpath(\".//li\")\n",
    "    for j in range(len(infos)):\n",
    "        if \"Bedroom\" in infos[j].text_content():\n",
    "            bedrooms = int(infos[j].text_content()[0])\n",
    "        if \"Bathrooms\" in infos[j].text_content():\n",
    "            bathrooms = int(infos[j].text_content()[0])\n",
    "        if \"Toilets\" in infos[j].text_content():\n",
    "            toilets = int(infos[j].text_content()[0])\n",
    "            if \"Bedroom\" in infos[j].text_content():\n",
    "            bedrooms = int(infos[j].text_content()[0])\n"
   ]
  }
 ],
 "metadata": {
  "kernelspec": {
   "display_name": "Python 3",
   "language": "python",
   "name": "python3"
  },
  "language_info": {
   "codemirror_mode": {
    "name": "ipython",
    "version": 3
   },
   "file_extension": ".py",
   "mimetype": "text/x-python",
   "name": "python",
   "nbconvert_exporter": "python",
   "pygments_lexer": "ipython3",
   "version": "3.8.5"
  }
 },
 "nbformat": 4,
 "nbformat_minor": 4
}
